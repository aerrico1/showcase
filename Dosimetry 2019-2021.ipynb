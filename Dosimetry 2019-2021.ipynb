{
 "cells": [
  {
   "cell_type": "markdown",
   "id": "f9029a8f",
   "metadata": {},
   "source": [
    "# Dosimetry data 2019-2021"
   ]
  },
  {
   "cell_type": "markdown",
   "id": "d09e4e12",
   "metadata": {},
   "source": [
    "### An analysis of annual deep dose radiation exposure to employees as recorded by dosimetry badges worn by the employees. Note that \"exposure\" and \"dose\" are used interchangeably, which is standard in the radiation protection field."
   ]
  },
  {
   "cell_type": "code",
   "execution_count": 1,
   "id": "b933181e",
   "metadata": {},
   "outputs": [],
   "source": [
    "import pandas as pd\n",
    "import matplotlib.pyplot as plt\n",
    "import seaborn as sns"
   ]
  },
  {
   "cell_type": "markdown",
   "id": "d6fa150d",
   "metadata": {},
   "source": [
    "Import CSV data:"
   ]
  },
  {
   "cell_type": "code",
   "execution_count": 2,
   "id": "3c28f3e0",
   "metadata": {},
   "outputs": [],
   "source": [
    "df19 = pd.read_csv('Doses2019.csv')\n",
    "df20 = pd.read_csv('Doses2020.csv')\n",
    "df21 = pd.read_csv('Doses2021.csv')"
   ]
  },
  {
   "cell_type": "markdown",
   "id": "b5b98dcc",
   "metadata": {},
   "source": [
    "Keep columns of interest and clean them up:"
   ]
  },
  {
   "cell_type": "code",
   "execution_count": 3,
   "id": "aa6c64b4",
   "metadata": {},
   "outputs": [],
   "source": [
    "def extract_columns(df):\n",
    "    df1 = df[['Location', 'Wearer Number', 'YTD Deep Dose']]\n",
    "    df1.columns = ['Location', 'Wearer Number', 'Deep Dose']\n",
    "    return df1"
   ]
  },
  {
   "cell_type": "code",
   "execution_count": 4,
   "id": "2a55fe03",
   "metadata": {},
   "outputs": [],
   "source": [
    "df19_clean = extract_columns(df19)\n",
    "df20_clean = extract_columns(df20)\n",
    "df21_clean = extract_columns(df21)"
   ]
  },
  {
   "cell_type": "markdown",
   "id": "88a29c01",
   "metadata": {},
   "source": [
    "Merge all data together on Wearer Number, the unique identifier for employees (note that this is not a unique identifier for readings, as employees may be issued more than one dosimeter, but isolating the deep dose columns as above should eliminate duplicates):"
   ]
  },
  {
   "cell_type": "code",
   "execution_count": 5,
   "id": "cb7016c2",
   "metadata": {},
   "outputs": [],
   "source": [
    "dose = df19_clean.merge(df20_clean, how=\"outer\", on=['Wearer Number', 'Location'], suffixes=('_2019', ''))"
   ]
  },
  {
   "cell_type": "code",
   "execution_count": 6,
   "id": "48a3050f",
   "metadata": {},
   "outputs": [],
   "source": [
    "dose = dose.merge(df21_clean, how=\"outer\", on=['Wearer Number', 'Location'], suffixes=('_2020', '_2021'))"
   ]
  },
  {
   "cell_type": "markdown",
   "id": "b26a0d8e",
   "metadata": {},
   "source": [
    "NaN values are expected as many individuals were not employed for all 3 years:"
   ]
  },
  {
   "cell_type": "code",
   "execution_count": 7,
   "id": "dd738b3b",
   "metadata": {},
   "outputs": [
    {
     "data": {
      "text/html": [
       "<div>\n",
       "<style scoped>\n",
       "    .dataframe tbody tr th:only-of-type {\n",
       "        vertical-align: middle;\n",
       "    }\n",
       "\n",
       "    .dataframe tbody tr th {\n",
       "        vertical-align: top;\n",
       "    }\n",
       "\n",
       "    .dataframe thead th {\n",
       "        text-align: right;\n",
       "    }\n",
       "</style>\n",
       "<table border=\"1\" class=\"dataframe\">\n",
       "  <thead>\n",
       "    <tr style=\"text-align: right;\">\n",
       "      <th></th>\n",
       "      <th>Location</th>\n",
       "      <th>Wearer Number</th>\n",
       "      <th>Deep Dose_2019</th>\n",
       "      <th>Deep Dose_2020</th>\n",
       "      <th>Deep Dose_2021</th>\n",
       "    </tr>\n",
       "  </thead>\n",
       "  <tbody>\n",
       "    <tr>\n",
       "      <th>0</th>\n",
       "      <td>00000AES</td>\n",
       "      <td>153</td>\n",
       "      <td>6.0</td>\n",
       "      <td>0.0</td>\n",
       "      <td>0.0</td>\n",
       "    </tr>\n",
       "    <tr>\n",
       "      <th>1</th>\n",
       "      <td>00000AES</td>\n",
       "      <td>154</td>\n",
       "      <td>0.0</td>\n",
       "      <td>0.0</td>\n",
       "      <td>0.0</td>\n",
       "    </tr>\n",
       "    <tr>\n",
       "      <th>2</th>\n",
       "      <td>00000AES</td>\n",
       "      <td>161</td>\n",
       "      <td>14.0</td>\n",
       "      <td>0.0</td>\n",
       "      <td>0.0</td>\n",
       "    </tr>\n",
       "    <tr>\n",
       "      <th>3</th>\n",
       "      <td>00000AES</td>\n",
       "      <td>788</td>\n",
       "      <td>79.0</td>\n",
       "      <td>22.0</td>\n",
       "      <td>112.0</td>\n",
       "    </tr>\n",
       "    <tr>\n",
       "      <th>4</th>\n",
       "      <td>00000AES</td>\n",
       "      <td>679</td>\n",
       "      <td>5.0</td>\n",
       "      <td>0.0</td>\n",
       "      <td>NaN</td>\n",
       "    </tr>\n",
       "  </tbody>\n",
       "</table>\n",
       "</div>"
      ],
      "text/plain": [
       "   Location  Wearer Number  Deep Dose_2019  Deep Dose_2020  Deep Dose_2021\n",
       "0  00000AES            153             6.0             0.0             0.0\n",
       "1  00000AES            154             0.0             0.0             0.0\n",
       "2  00000AES            161            14.0             0.0             0.0\n",
       "3  00000AES            788            79.0            22.0           112.0\n",
       "4  00000AES            679             5.0             0.0             NaN"
      ]
     },
     "execution_count": 7,
     "metadata": {},
     "output_type": "execute_result"
    }
   ],
   "source": [
    "dose.head()"
   ]
  },
  {
   "cell_type": "code",
   "execution_count": 8,
   "id": "92eec1d4",
   "metadata": {},
   "outputs": [
    {
     "data": {
      "text/plain": [
       "<bound method DataFrame.info of       Location  Wearer Number  Deep Dose_2019  Deep Dose_2020  Deep Dose_2021\n",
       "0     00000AES            153             6.0             0.0             0.0\n",
       "1     00000AES            154             0.0             0.0             0.0\n",
       "2     00000AES            161            14.0             0.0             0.0\n",
       "3     00000AES            788            79.0            22.0           112.0\n",
       "4     00000AES            679             5.0             0.0             NaN\n",
       "...        ...            ...             ...             ...             ...\n",
       "1909  00000SPR         201016             NaN             NaN             0.0\n",
       "1910  00000URO           1108             NaN             NaN             0.0\n",
       "1911  00000URO           1064             NaN             NaN             0.0\n",
       "1912  00000URO           1107             NaN             NaN             0.0\n",
       "1913  00000URO           1130             NaN             NaN             0.0\n",
       "\n",
       "[1914 rows x 5 columns]>"
      ]
     },
     "execution_count": 8,
     "metadata": {},
     "output_type": "execute_result"
    }
   ],
   "source": [
    "dose.info"
   ]
  },
  {
   "cell_type": "markdown",
   "id": "61ef7c73",
   "metadata": {},
   "source": [
    "Locations refer to different departments in the hospital. Removing leading zeros from location names:"
   ]
  },
  {
   "cell_type": "code",
   "execution_count": 9,
   "id": "3716c030",
   "metadata": {},
   "outputs": [],
   "source": [
    "dose['Location']=dose['Location'].astype('string')\n",
    "dose['Location']=[string.replace('0','') for string in dose['Location']]"
   ]
  },
  {
   "cell_type": "markdown",
   "id": "24abf924",
   "metadata": {},
   "source": [
    "We are only interested in dose to employees, but this data includes spare dosimeters, area monitors, etc. Dropping locations and wearers we are not interested in:"
   ]
  },
  {
   "cell_type": "code",
   "execution_count": 10,
   "id": "10416b23",
   "metadata": {},
   "outputs": [
    {
     "data": {
      "text/plain": [
       "0       False\n",
       "1       False\n",
       "2       False\n",
       "3       False\n",
       "4       False\n",
       "        ...  \n",
       "1909     True\n",
       "1910    False\n",
       "1911    False\n",
       "1912    False\n",
       "1913    False\n",
       "Length: 1914, dtype: bool"
      ]
     },
     "execution_count": 10,
     "metadata": {},
     "output_type": "execute_result"
    }
   ],
   "source": [
    "locations_to_drop = ['ED', 'RMA', 'SPR']\n",
    "wearers_to_drop = [528, 529, 531, 532, 536, 779, 780, 781, 200942, 200943]\n",
    "to_drop= (dose['Location'].isin(locations_to_drop) | dose['Wearer Number'].isin(wearers_to_drop))\n",
    "to_drop"
   ]
  },
  {
   "cell_type": "code",
   "execution_count": 12,
   "id": "44a05aee",
   "metadata": {},
   "outputs": [
    {
     "data": {
      "text/html": [
       "<div>\n",
       "<style scoped>\n",
       "    .dataframe tbody tr th:only-of-type {\n",
       "        vertical-align: middle;\n",
       "    }\n",
       "\n",
       "    .dataframe tbody tr th {\n",
       "        vertical-align: top;\n",
       "    }\n",
       "\n",
       "    .dataframe thead th {\n",
       "        text-align: right;\n",
       "    }\n",
       "</style>\n",
       "<table border=\"1\" class=\"dataframe\">\n",
       "  <thead>\n",
       "    <tr style=\"text-align: right;\">\n",
       "      <th></th>\n",
       "      <th>Location</th>\n",
       "      <th>Wearer Number</th>\n",
       "      <th>Deep Dose_2019</th>\n",
       "      <th>Deep Dose_2020</th>\n",
       "      <th>Deep Dose_2021</th>\n",
       "    </tr>\n",
       "  </thead>\n",
       "  <tbody>\n",
       "    <tr>\n",
       "      <th>0</th>\n",
       "      <td>AES</td>\n",
       "      <td>153</td>\n",
       "      <td>6.0</td>\n",
       "      <td>0.0</td>\n",
       "      <td>0.0</td>\n",
       "    </tr>\n",
       "    <tr>\n",
       "      <th>1</th>\n",
       "      <td>AES</td>\n",
       "      <td>154</td>\n",
       "      <td>0.0</td>\n",
       "      <td>0.0</td>\n",
       "      <td>0.0</td>\n",
       "    </tr>\n",
       "    <tr>\n",
       "      <th>2</th>\n",
       "      <td>AES</td>\n",
       "      <td>161</td>\n",
       "      <td>14.0</td>\n",
       "      <td>0.0</td>\n",
       "      <td>0.0</td>\n",
       "    </tr>\n",
       "    <tr>\n",
       "      <th>3</th>\n",
       "      <td>AES</td>\n",
       "      <td>788</td>\n",
       "      <td>79.0</td>\n",
       "      <td>22.0</td>\n",
       "      <td>112.0</td>\n",
       "    </tr>\n",
       "    <tr>\n",
       "      <th>4</th>\n",
       "      <td>AES</td>\n",
       "      <td>679</td>\n",
       "      <td>5.0</td>\n",
       "      <td>0.0</td>\n",
       "      <td>NaN</td>\n",
       "    </tr>\n",
       "    <tr>\n",
       "      <th>...</th>\n",
       "      <td>...</td>\n",
       "      <td>...</td>\n",
       "      <td>...</td>\n",
       "      <td>...</td>\n",
       "      <td>...</td>\n",
       "    </tr>\n",
       "    <tr>\n",
       "      <th>1885</th>\n",
       "      <td>SPC</td>\n",
       "      <td>1095</td>\n",
       "      <td>NaN</td>\n",
       "      <td>NaN</td>\n",
       "      <td>0.0</td>\n",
       "    </tr>\n",
       "    <tr>\n",
       "      <th>1910</th>\n",
       "      <td>URO</td>\n",
       "      <td>1108</td>\n",
       "      <td>NaN</td>\n",
       "      <td>NaN</td>\n",
       "      <td>0.0</td>\n",
       "    </tr>\n",
       "    <tr>\n",
       "      <th>1911</th>\n",
       "      <td>URO</td>\n",
       "      <td>1064</td>\n",
       "      <td>NaN</td>\n",
       "      <td>NaN</td>\n",
       "      <td>0.0</td>\n",
       "    </tr>\n",
       "    <tr>\n",
       "      <th>1912</th>\n",
       "      <td>URO</td>\n",
       "      <td>1107</td>\n",
       "      <td>NaN</td>\n",
       "      <td>NaN</td>\n",
       "      <td>0.0</td>\n",
       "    </tr>\n",
       "    <tr>\n",
       "      <th>1913</th>\n",
       "      <td>URO</td>\n",
       "      <td>1130</td>\n",
       "      <td>NaN</td>\n",
       "      <td>NaN</td>\n",
       "      <td>0.0</td>\n",
       "    </tr>\n",
       "  </tbody>\n",
       "</table>\n",
       "<p>1842 rows × 5 columns</p>\n",
       "</div>"
      ],
      "text/plain": [
       "     Location  Wearer Number  Deep Dose_2019  Deep Dose_2020  Deep Dose_2021\n",
       "0         AES            153             6.0             0.0             0.0\n",
       "1         AES            154             0.0             0.0             0.0\n",
       "2         AES            161            14.0             0.0             0.0\n",
       "3         AES            788            79.0            22.0           112.0\n",
       "4         AES            679             5.0             0.0             NaN\n",
       "...       ...            ...             ...             ...             ...\n",
       "1885      SPC           1095             NaN             NaN             0.0\n",
       "1910      URO           1108             NaN             NaN             0.0\n",
       "1911      URO           1064             NaN             NaN             0.0\n",
       "1912      URO           1107             NaN             NaN             0.0\n",
       "1913      URO           1130             NaN             NaN             0.0\n",
       "\n",
       "[1842 rows x 5 columns]"
      ]
     },
     "execution_count": 12,
     "metadata": {},
     "output_type": "execute_result"
    }
   ],
   "source": [
    "employee_dose = dose[~to_drop]\n",
    "employee_dose"
   ]
  },
  {
   "cell_type": "markdown",
   "id": "fdafd657",
   "metadata": {},
   "source": [
    "Initial exploratory analysis of dose values. Exposures were particularly low in 2020. Non-emergency procedures were deprioritized due to the COVID-19 crisis:"
   ]
  },
  {
   "cell_type": "code",
   "execution_count": 13,
   "id": "02dd5fd5",
   "metadata": {},
   "outputs": [
    {
     "name": "stdout",
     "output_type": "stream",
     "text": [
      "2019 mean: 35.28695652173913\n",
      "2020 mean: 23.758676351896693\n",
      "2021 mean: 31.015625\n"
     ]
    }
   ],
   "source": [
    "print('2019 mean: ' + str(employee_dose['Deep Dose_2019'].mean()))\n",
    "print('2020 mean: ' + str(employee_dose['Deep Dose_2020'].mean()))\n",
    "print('2021 mean: ' + str(employee_dose['Deep Dose_2021'].mean()))"
   ]
  },
  {
   "cell_type": "code",
   "execution_count": 14,
   "id": "0118df7b",
   "metadata": {},
   "outputs": [
    {
     "name": "stdout",
     "output_type": "stream",
     "text": [
      "2019 median: 5.0\n",
      "2020 median: 0.0\n",
      "2021 median: 0.0\n"
     ]
    }
   ],
   "source": [
    "print('2019 median: ' + str(employee_dose['Deep Dose_2019'].median()))\n",
    "print('2020 median: ' + str(employee_dose['Deep Dose_2020'].median()))\n",
    "print('2021 median: ' + str(employee_dose['Deep Dose_2021'].median()))"
   ]
  },
  {
   "cell_type": "markdown",
   "id": "f4dbb860",
   "metadata": {},
   "source": [
    "Melt the dataframe to facilitate categorical analysis in seaborn:"
   ]
  },
  {
   "cell_type": "code",
   "execution_count": 15,
   "id": "6983e6e9",
   "metadata": {},
   "outputs": [
    {
     "data": {
      "text/html": [
       "<div>\n",
       "<style scoped>\n",
       "    .dataframe tbody tr th:only-of-type {\n",
       "        vertical-align: middle;\n",
       "    }\n",
       "\n",
       "    .dataframe tbody tr th {\n",
       "        vertical-align: top;\n",
       "    }\n",
       "\n",
       "    .dataframe thead th {\n",
       "        text-align: right;\n",
       "    }\n",
       "</style>\n",
       "<table border=\"1\" class=\"dataframe\">\n",
       "  <thead>\n",
       "    <tr style=\"text-align: right;\">\n",
       "      <th></th>\n",
       "      <th>Location</th>\n",
       "      <th>Wearer Number</th>\n",
       "      <th>Year</th>\n",
       "      <th>Deep Dose in mrem</th>\n",
       "    </tr>\n",
       "  </thead>\n",
       "  <tbody>\n",
       "    <tr>\n",
       "      <th>0</th>\n",
       "      <td>AES</td>\n",
       "      <td>153</td>\n",
       "      <td>2019</td>\n",
       "      <td>6.0</td>\n",
       "    </tr>\n",
       "    <tr>\n",
       "      <th>1</th>\n",
       "      <td>AES</td>\n",
       "      <td>154</td>\n",
       "      <td>2019</td>\n",
       "      <td>0.0</td>\n",
       "    </tr>\n",
       "    <tr>\n",
       "      <th>2</th>\n",
       "      <td>AES</td>\n",
       "      <td>161</td>\n",
       "      <td>2019</td>\n",
       "      <td>14.0</td>\n",
       "    </tr>\n",
       "    <tr>\n",
       "      <th>3</th>\n",
       "      <td>AES</td>\n",
       "      <td>788</td>\n",
       "      <td>2019</td>\n",
       "      <td>79.0</td>\n",
       "    </tr>\n",
       "    <tr>\n",
       "      <th>4</th>\n",
       "      <td>AES</td>\n",
       "      <td>679</td>\n",
       "      <td>2019</td>\n",
       "      <td>5.0</td>\n",
       "    </tr>\n",
       "  </tbody>\n",
       "</table>\n",
       "</div>"
      ],
      "text/plain": [
       "  Location  Wearer Number  Year  Deep Dose in mrem\n",
       "0      AES            153  2019                6.0\n",
       "1      AES            154  2019                0.0\n",
       "2      AES            161  2019               14.0\n",
       "3      AES            788  2019               79.0\n",
       "4      AES            679  2019                5.0"
      ]
     },
     "execution_count": 15,
     "metadata": {},
     "output_type": "execute_result"
    }
   ],
   "source": [
    "dose_year=employee_dose\n",
    "dose_year.columns=['Location', 'Wearer Number', '2019', '2020', '2021']\n",
    "dose_year=pd.melt(dose_year, id_vars=['Location', 'Wearer Number'], var_name='Year', value_name='Deep Dose in mrem').dropna()\n",
    "dose_year.head()"
   ]
  },
  {
   "cell_type": "markdown",
   "id": "5dc43eef",
   "metadata": {},
   "source": [
    "A histogram of dose readings. Most doses are less than 100 mrem (note the y scale is cut off):"
   ]
  },
  {
   "cell_type": "code",
   "execution_count": 17,
   "id": "78980a4e",
   "metadata": {},
   "outputs": [
    {
     "data": {
      "image/png": "[encoded data removed]",
      "text/plain": [
       "<Figure size 432x288 with 1 Axes>"
      ]
     },
     "metadata": {
      "needs_background": "light"
     },
     "output_type": "display_data"
    }
   ],
   "source": [
    "sns.histplot(data=dose_year, x='Deep Dose in mrem', hue='Year')\n",
    "plt.ylim(0,100)\n",
    "plt.show()"
   ]
  },
  {
   "cell_type": "markdown",
   "id": "e913cc87",
   "metadata": {},
   "source": [
    "A strip plot makes the distribution easier to read:"
   ]
  },
  {
   "cell_type": "code",
   "execution_count": 18,
   "id": "efba2a29",
   "metadata": {},
   "outputs": [
    {
     "data": {
      "image/png": "[encoded data removed]",
      "text/plain": [
       "<Figure size 360x360 with 1 Axes>"
      ]
     },
     "metadata": {
      "needs_background": "light"
     },
     "output_type": "display_data"
    }
   ],
   "source": [
    "p = sns.catplot(data=dose_year, x='Year', y='Deep Dose in mrem', kind='strip')"
   ]
  },
  {
   "cell_type": "markdown",
   "id": "f7e823e2",
   "metadata": {},
   "source": [
    "A closer look at the distribution. 88% of readings are below 50 mrem:"
   ]
  },
  {
   "cell_type": "code",
   "execution_count": 19,
   "id": "9860e3ac",
   "metadata": {},
   "outputs": [
    {
     "data": {
      "text/plain": [
       "(-1.986, 49.625]       3229\n",
       "(49.625, 99.25]         199\n",
       "(99.25, 148.875]         89\n",
       "(148.875, 198.5]         34\n",
       "(198.5, 248.125]         32\n",
       "(248.125, 297.75]        13\n",
       "(297.75, 347.375]         3\n",
       "(347.375, 397.0]          5\n",
       "(397.0, 446.625]          5\n",
       "(446.625, 496.25]         9\n",
       "(496.25, 545.875]        11\n",
       "(545.875, 595.5]          1\n",
       "(595.5, 645.125]          4\n",
       "(645.125, 694.75]         0\n",
       "(694.75, 744.375]         4\n",
       "(744.375, 794.0]          2\n",
       "(794.0, 843.625]          0\n",
       "(843.625, 893.25]         0\n",
       "(893.25, 942.875]         0\n",
       "(942.875, 992.5]          1\n",
       "(992.5, 1042.125]         1\n",
       "(1042.125, 1091.75]       1\n",
       "(1091.75, 1141.375]       0\n",
       "(1141.375, 1191.0]        1\n",
       "(1191.0, 1240.625]        4\n",
       "(1240.625, 1290.25]       0\n",
       "(1290.25, 1339.875]       1\n",
       "(1339.875, 1389.5]        0\n",
       "(1389.5, 1439.125]        1\n",
       "(1439.125, 1488.75]       0\n",
       "(1488.75, 1538.375]       0\n",
       "(1538.375, 1588.0]        2\n",
       "(1588.0, 1637.625]        3\n",
       "(1637.625, 1687.25]       0\n",
       "(1687.25, 1736.875]       0\n",
       "(1736.875, 1786.5]        0\n",
       "(1786.5, 1836.125]        0\n",
       "(1836.125, 1885.75]       0\n",
       "(1885.75, 1935.375]       0\n",
       "(1935.375, 1985.0]        1\n",
       "Name: Deep Dose in mrem, dtype: int64"
      ]
     },
     "execution_count": 19,
     "metadata": {},
     "output_type": "execute_result"
    }
   ],
   "source": [
    "dose_year['Deep Dose in mrem'].value_counts(sort=False, bins=40)"
   ]
  },
  {
   "cell_type": "code",
   "execution_count": 20,
   "id": "3e63dac3",
   "metadata": {},
   "outputs": [
    {
     "data": {
      "text/plain": [
       "(-1.986, 49.625]       0.883206\n",
       "(49.625, 99.25]        0.054431\n",
       "(99.25, 148.875]       0.024344\n",
       "(148.875, 198.5]       0.009300\n",
       "(198.5, 248.125]       0.008753\n",
       "(248.125, 297.75]      0.003556\n",
       "(297.75, 347.375]      0.000821\n",
       "(347.375, 397.0]       0.001368\n",
       "(397.0, 446.625]       0.001368\n",
       "(446.625, 496.25]      0.002462\n",
       "(496.25, 545.875]      0.003009\n",
       "(545.875, 595.5]       0.000274\n",
       "(595.5, 645.125]       0.001094\n",
       "(645.125, 694.75]      0.000000\n",
       "(694.75, 744.375]      0.001094\n",
       "(744.375, 794.0]       0.000547\n",
       "(794.0, 843.625]       0.000000\n",
       "(843.625, 893.25]      0.000000\n",
       "(893.25, 942.875]      0.000000\n",
       "(942.875, 992.5]       0.000274\n",
       "(992.5, 1042.125]      0.000274\n",
       "(1042.125, 1091.75]    0.000274\n",
       "(1091.75, 1141.375]    0.000000\n",
       "(1141.375, 1191.0]     0.000274\n",
       "(1191.0, 1240.625]     0.001094\n",
       "(1240.625, 1290.25]    0.000000\n",
       "(1290.25, 1339.875]    0.000274\n",
       "(1339.875, 1389.5]     0.000000\n",
       "(1389.5, 1439.125]     0.000274\n",
       "(1439.125, 1488.75]    0.000000\n",
       "(1488.75, 1538.375]    0.000000\n",
       "(1538.375, 1588.0]     0.000547\n",
       "(1588.0, 1637.625]     0.000821\n",
       "(1637.625, 1687.25]    0.000000\n",
       "(1687.25, 1736.875]    0.000000\n",
       "(1736.875, 1786.5]     0.000000\n",
       "(1786.5, 1836.125]     0.000000\n",
       "(1836.125, 1885.75]    0.000000\n",
       "(1885.75, 1935.375]    0.000000\n",
       "(1935.375, 1985.0]     0.000274\n",
       "Name: Deep Dose in mrem, dtype: float64"
      ]
     },
     "execution_count": 20,
     "metadata": {},
     "output_type": "execute_result"
    }
   ],
   "source": [
    "dose_year['Deep Dose in mrem'].value_counts(normalize=True, sort=False, bins=40)"
   ]
  },
  {
   "cell_type": "markdown",
   "id": "4f9765e2",
   "metadata": {},
   "source": [
    "According to state regulations, the annual exposure limit to a member of the public from a licensee is 100 mrem (the limit to a radiation worker is 5000 mrem). Certain departments are more likely to fall above this threshold:"
   ]
  },
  {
   "cell_type": "code",
   "execution_count": 21,
   "id": "27112d23",
   "metadata": {},
   "outputs": [
    {
     "data": {
      "text/plain": [
       "NM     88\n",
       "CAR    40\n",
       "SPC    32\n",
       "EP     29\n",
       "RAD    14\n",
       "RTE    10\n",
       "AES     4\n",
       "NEU     4\n",
       "SL      3\n",
       "ORT     1\n",
       "PUL     1\n",
       "EDY     1\n",
       "CME     1\n",
       "Name: Location, dtype: int64"
      ]
     },
     "execution_count": 21,
     "metadata": {},
     "output_type": "execute_result"
    }
   ],
   "source": [
    "dose_above_100 = dose_year[dose_year['Deep Dose in mrem']>=100]\n",
    "dose_above_100['Location'].value_counts()"
   ]
  },
  {
   "cell_type": "markdown",
   "id": "b15afad8",
   "metadata": {},
   "source": [
    "The licensee is required to provide dosimetry to any employee who is likely to recieve more than 10% of the 5000 mrem annual dose limit:"
   ]
  },
  {
   "cell_type": "code",
   "execution_count": 22,
   "id": "88e427f3",
   "metadata": {},
   "outputs": [
    {
     "data": {
      "text/plain": [
       "EP     15\n",
       "SPC    12\n",
       "CAR     7\n",
       "RAD     2\n",
       "RTE     2\n",
       "Name: Location, dtype: int64"
      ]
     },
     "execution_count": 22,
     "metadata": {},
     "output_type": "execute_result"
    }
   ],
   "source": [
    "dose_above_500 = dose_year[dose_year['Deep Dose in mrem']>=500]\n",
    "dose_above_500['Location'].value_counts()"
   ]
  },
  {
   "cell_type": "markdown",
   "id": "889879ff",
   "metadata": {},
   "source": [
    "If we make changes to the dosimetry program, it is easiest to do so at the department (location) level, rather than singling out individual employees. One possibility would be to keep all locations where any wearer received an annual dose of 100 mrem or greater in any of the last three years. The remaining locations could be removed from the program:"
   ]
  },
  {
   "cell_type": "code",
   "execution_count": 23,
   "id": "27317cbe",
   "metadata": {},
   "outputs": [
    {
     "data": {
      "text/plain": [
       "['ASC',\n",
       " 'BD',\n",
       " 'CT',\n",
       " 'DXY',\n",
       " 'EDN',\n",
       " 'FRN',\n",
       " 'LYN',\n",
       " 'MAM',\n",
       " 'MOK',\n",
       " 'MOR',\n",
       " 'PM',\n",
       " 'RM',\n",
       " 'RPO',\n",
       " 'SLP',\n",
       " 'UMS',\n",
       " 'URO',\n",
       " 'XRY']"
      ]
     },
     "execution_count": 23,
     "metadata": {},
     "output_type": "execute_result"
    }
   ],
   "source": [
    "all_locations = set(dose_year['Location'].unique())\n",
    "keep_locations = set(dose_above_100['Location'].unique())\n",
    "remove_locations = list(all_locations - keep_locations)\n",
    "remove_locations.sort()\n",
    "remove_locations"
   ]
  },
  {
   "cell_type": "markdown",
   "id": "d203da61",
   "metadata": {},
   "source": [
    "The cost to the institution is based on the number of wearers. We are only interested in current employees for cost analysis, so we will focus only on 2021 data:"
   ]
  },
  {
   "cell_type": "code",
   "execution_count": 24,
   "id": "06f5c5e3",
   "metadata": {},
   "outputs": [
    {
     "data": {
      "text/plain": [
       "361"
      ]
     },
     "execution_count": 24,
     "metadata": {},
     "output_type": "execute_result"
    }
   ],
   "source": [
    "wearers_to_remove = dose_year[(dose_year['Location'].isin(remove_locations))]\n",
    "wearers_to_remove = wearers_to_remove[wearers_to_remove['Year']=='2021']\n",
    "wearers_to_remove = wearers_to_remove['Wearer Number'].unique()\n",
    "number_to_remove = len(wearers_to_remove)\n",
    "number_to_remove"
   ]
  },
  {
   "cell_type": "code",
   "execution_count": 25,
   "id": "eaa03919",
   "metadata": {},
   "outputs": [
    {
     "data": {
      "text/plain": [
       "824"
      ]
     },
     "execution_count": 25,
     "metadata": {},
     "output_type": "execute_result"
    }
   ],
   "source": [
    "current = dose_year[dose_year['Year']=='2021']\n",
    "current_wearers = len(current['Wearer Number'].unique())\n",
    "current_wearers"
   ]
  },
  {
   "cell_type": "code",
   "execution_count": 27,
   "id": "aae3225d",
   "metadata": {},
   "outputs": [
    {
     "name": "stdout",
     "output_type": "stream",
     "text": [
      "43.81%\n"
     ]
    }
   ],
   "source": [
    "ratio = number_to_remove/current_wearers\n",
    "pct = '{:.2%}'.format(ratio)\n",
    "print(pct)"
   ]
  },
  {
   "cell_type": "markdown",
   "id": "8df02858",
   "metadata": {},
   "source": [
    "**Conclusion:** The institution could reduce the number of wearers (and therefore the program cost) by 44% without risking either excessive exposure to the employees or violation of state regulations. "
   ]
  },
  {
   "cell_type": "markdown",
   "id": "9b058609",
   "metadata": {},
   "source": [
    "**Assumptions:**\n",
    "- All employees wear their dosimeters in the correct location\n",
    "- All employees consistently wear their dosimeters whenever radiation exposure is possible\n",
    "- Dosimeters are stored in approved locations, and not transported offsite\n",
    "- Dosimeters are recording exposure accurately and reporting it correctly"
   ]
  },
  {
   "cell_type": "markdown",
   "id": "93e83886",
   "metadata": {},
   "source": [
    "**Future Analysis:** This report examines deep dose only. Similar analysis can and should be completed for eye lens dose, shallow dose, and extremity dose before any changes are made to the program. Analysis can be performed for fetal dose, but since a fetal dosimeter must be issued to every employee who declares a pregnancy, no wearers should be removed from dose monitoring based on fetal dosimetry analysis. "
   ]
  }
 ],
 "metadata": {
  "kernelspec": {
   "display_name": "Python 3 (ipykernel)",
   "language": "python",
   "name": "python3"
  },
  "language_info": {
   "codemirror_mode": {
    "name": "ipython",
    "version": 3
   },
   "file_extension": ".py",
   "mimetype": "text/x-python",
   "name": "python",
   "nbconvert_exporter": "python",
   "pygments_lexer": "ipython3",
   "version": "3.9.7"
  }
 },
 "nbformat": 4,
 "nbformat_minor": 5
}

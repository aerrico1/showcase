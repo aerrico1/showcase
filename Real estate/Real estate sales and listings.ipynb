{
 "cells": [
  {
   "cell_type": "code",
   "execution_count": 1,
   "id": "0b368e43",
   "metadata": {},
   "outputs": [],
   "source": [
    "import pandas as pd"
   ]
  },
  {
   "cell_type": "code",
   "execution_count": 3,
   "id": "277497eb",
   "metadata": {},
   "outputs": [],
   "source": [
    "sales = pd.read_csv(\"sales.csv\")"
   ]
  },
  {
   "cell_type": "code",
   "execution_count": 4,
   "id": "5a70b1f9",
   "metadata": {},
   "outputs": [
    {
     "name": "stdout",
     "output_type": "stream",
     "text": [
      "624\n"
     ]
    }
   ],
   "source": [
    "print(sales.columns.get_loc(\"1/4/2020\"))"
   ]
  },
  {
   "cell_type": "code",
   "execution_count": 5,
   "id": "0ec16153",
   "metadata": {},
   "outputs": [
    {
     "data": {
      "text/plain": [
       "1/4/2020     433363.0\n",
       "1/11/2020    432113.0\n",
       "1/18/2020    429863.0\n",
       "1/25/2020    431250.0\n",
       "2/1/2020     434500.0\n",
       "               ...   \n",
       "4/9/2022       557500\n",
       "4/16/2022      565639\n",
       "4/23/2022      574389\n",
       "4/30/2022      581889\n",
       "5/7/2022     598764.0\n",
       "Name: 10, Length: 123, dtype: object"
      ]
     },
     "execution_count": 5,
     "metadata": {},
     "output_type": "execute_result"
    }
   ],
   "source": [
    "boston = sales.iloc[10,624:]\n",
    "boston"
   ]
  },
  {
   "cell_type": "code",
   "execution_count": 6,
   "id": "55ab854c",
   "metadata": {},
   "outputs": [],
   "source": [
    "import matplotlib.pyplot as plt\n",
    "import numpy as np\n",
    "import matplotlib.dates as mdates\n",
    "import datetime as dt"
   ]
  },
  {
   "cell_type": "code",
   "execution_count": 7,
   "id": "0c7d39e3",
   "metadata": {},
   "outputs": [
    {
     "data": {
      "text/plain": [
       "2020-01-04    433363.0\n",
       "2020-01-11    432113.0\n",
       "2020-01-18    429863.0\n",
       "2020-01-25    431250.0\n",
       "2020-02-01    434500.0\n",
       "                ...   \n",
       "2022-04-09      557500\n",
       "2022-04-16      565639\n",
       "2022-04-23      574389\n",
       "2022-04-30      581889\n",
       "2022-05-07    598764.0\n",
       "Name: 10, Length: 123, dtype: object"
      ]
     },
     "execution_count": 7,
     "metadata": {},
     "output_type": "execute_result"
    }
   ],
   "source": [
    "dates = boston.index\n",
    "x = [dt.datetime.strptime(d,'%m/%d/%Y').date() for d in dates]\n",
    "days = mdates.drange(x[0],x[-1],dt.timedelta(days=1))\n",
    "boston.index = x\n",
    "boston"
   ]
  },
  {
   "cell_type": "code",
   "execution_count": 8,
   "id": "a0b785c3",
   "metadata": {},
   "outputs": [
    {
     "data": {
      "image/png": "[encoded data removed]",
      "text/plain": [
       "<Figure size 432x288 with 1 Axes>"
      ]
     },
     "metadata": {
      "needs_background": "light"
     },
     "output_type": "display_data"
    }
   ],
   "source": [
    "plt.gca().xaxis.set_major_formatter(mdates.DateFormatter('%Y-%m-%d'))\n",
    "plt.gca().xaxis.set_major_locator(mdates.DayLocator(interval=90))\n",
    "plt.gca().yaxis.set_major_formatter('${x:,.0f}')\n",
    "plt.plot(boston)\n",
    "plt.gcf().autofmt_xdate()\n",
    "plt.title(\"Median Single Family Home Sales in the Boston Metro Area\")\n",
    "plt.show()"
   ]
  },
  {
   "cell_type": "code",
   "execution_count": 9,
   "id": "bd7c5306",
   "metadata": {},
   "outputs": [
    {
     "data": {
      "text/html": [
       "<div>\n",
       "<style scoped>\n",
       "    .dataframe tbody tr th:only-of-type {\n",
       "        vertical-align: middle;\n",
       "    }\n",
       "\n",
       "    .dataframe tbody tr th {\n",
       "        vertical-align: top;\n",
       "    }\n",
       "\n",
       "    .dataframe thead th {\n",
       "        text-align: right;\n",
       "    }\n",
       "</style>\n",
       "<table border=\"1\" class=\"dataframe\">\n",
       "  <thead>\n",
       "    <tr style=\"text-align: right;\">\n",
       "      <th></th>\n",
       "      <th>RegionID</th>\n",
       "      <th>SizeRank</th>\n",
       "      <th>RegionName</th>\n",
       "      <th>RegionType</th>\n",
       "      <th>StateName</th>\n",
       "      <th>11/4/2017</th>\n",
       "      <th>11/11/2017</th>\n",
       "      <th>11/18/2017</th>\n",
       "      <th>11/25/2017</th>\n",
       "      <th>12/2/2017</th>\n",
       "      <th>...</th>\n",
       "      <th>3/5/2022</th>\n",
       "      <th>3/12/2022</th>\n",
       "      <th>3/19/2022</th>\n",
       "      <th>3/26/2022</th>\n",
       "      <th>4/2/2022</th>\n",
       "      <th>4/9/2022</th>\n",
       "      <th>4/16/2022</th>\n",
       "      <th>4/23/2022</th>\n",
       "      <th>4/30/2022</th>\n",
       "      <th>5/7/2022</th>\n",
       "    </tr>\n",
       "  </thead>\n",
       "  <tbody>\n",
       "    <tr>\n",
       "      <th>0</th>\n",
       "      <td>102001</td>\n",
       "      <td>0</td>\n",
       "      <td>United States</td>\n",
       "      <td>Country</td>\n",
       "      <td>NaN</td>\n",
       "      <td>278111</td>\n",
       "      <td>278086</td>\n",
       "      <td>278061</td>\n",
       "      <td>277555</td>\n",
       "      <td>276291</td>\n",
       "      <td>...</td>\n",
       "      <td>383498</td>\n",
       "      <td>387498.0</td>\n",
       "      <td>392250</td>\n",
       "      <td>395975</td>\n",
       "      <td>398475</td>\n",
       "      <td>401800</td>\n",
       "      <td>405675</td>\n",
       "      <td>410448.0</td>\n",
       "      <td>416698</td>\n",
       "      <td>421370</td>\n",
       "    </tr>\n",
       "    <tr>\n",
       "      <th>1</th>\n",
       "      <td>394913</td>\n",
       "      <td>1</td>\n",
       "      <td>New York, NY</td>\n",
       "      <td>Msa</td>\n",
       "      <td>NY</td>\n",
       "      <td>515089</td>\n",
       "      <td>515089</td>\n",
       "      <td>513839</td>\n",
       "      <td>510014</td>\n",
       "      <td>510014</td>\n",
       "      <td>...</td>\n",
       "      <td>677500</td>\n",
       "      <td>679500.0</td>\n",
       "      <td>681000</td>\n",
       "      <td>683500</td>\n",
       "      <td>685500</td>\n",
       "      <td>686750</td>\n",
       "      <td>686725</td>\n",
       "      <td>686725.0</td>\n",
       "      <td>686975</td>\n",
       "      <td>688033</td>\n",
       "    </tr>\n",
       "    <tr>\n",
       "      <th>2</th>\n",
       "      <td>753899</td>\n",
       "      <td>2</td>\n",
       "      <td>Los Angeles-Long Beach-Anaheim, CA</td>\n",
       "      <td>Msa</td>\n",
       "      <td>CA</td>\n",
       "      <td>837946</td>\n",
       "      <td>837946</td>\n",
       "      <td>837724</td>\n",
       "      <td>837724</td>\n",
       "      <td>837946</td>\n",
       "      <td>...</td>\n",
       "      <td>1018750</td>\n",
       "      <td>1033750.0</td>\n",
       "      <td>1052500</td>\n",
       "      <td>1064975</td>\n",
       "      <td>1071225</td>\n",
       "      <td>1073725</td>\n",
       "      <td>1067475</td>\n",
       "      <td>1061250.0</td>\n",
       "      <td>1058750</td>\n",
       "      <td>1063500</td>\n",
       "    </tr>\n",
       "    <tr>\n",
       "      <th>3</th>\n",
       "      <td>394463</td>\n",
       "      <td>3</td>\n",
       "      <td>Chicago, IL</td>\n",
       "      <td>Msa</td>\n",
       "      <td>IL</td>\n",
       "      <td>319023</td>\n",
       "      <td>317764</td>\n",
       "      <td>316061</td>\n",
       "      <td>314116</td>\n",
       "      <td>312016</td>\n",
       "      <td>...</td>\n",
       "      <td>329750</td>\n",
       "      <td>333250.0</td>\n",
       "      <td>335975</td>\n",
       "      <td>338475</td>\n",
       "      <td>340975</td>\n",
       "      <td>343475</td>\n",
       "      <td>345975</td>\n",
       "      <td>348475.0</td>\n",
       "      <td>351725</td>\n",
       "      <td>354450</td>\n",
       "    </tr>\n",
       "    <tr>\n",
       "      <th>4</th>\n",
       "      <td>394514</td>\n",
       "      <td>4</td>\n",
       "      <td>Dallas-Fort Worth, TX</td>\n",
       "      <td>Msa</td>\n",
       "      <td>TX</td>\n",
       "      <td>344662</td>\n",
       "      <td>343913</td>\n",
       "      <td>342661</td>\n",
       "      <td>341387</td>\n",
       "      <td>341047</td>\n",
       "      <td>...</td>\n",
       "      <td>436473</td>\n",
       "      <td>442970.0</td>\n",
       "      <td>450243</td>\n",
       "      <td>456990</td>\n",
       "      <td>460990</td>\n",
       "      <td>463867</td>\n",
       "      <td>467845</td>\n",
       "      <td>471097.0</td>\n",
       "      <td>474850</td>\n",
       "      <td>479725</td>\n",
       "    </tr>\n",
       "  </tbody>\n",
       "</table>\n",
       "<p>5 rows × 241 columns</p>\n",
       "</div>"
      ],
      "text/plain": [
       "   RegionID  SizeRank                          RegionName RegionType  \\\n",
       "0    102001         0                       United States    Country   \n",
       "1    394913         1                        New York, NY        Msa   \n",
       "2    753899         2  Los Angeles-Long Beach-Anaheim, CA        Msa   \n",
       "3    394463         3                         Chicago, IL        Msa   \n",
       "4    394514         4               Dallas-Fort Worth, TX        Msa   \n",
       "\n",
       "  StateName  11/4/2017  11/11/2017  11/18/2017  11/25/2017  12/2/2017  ...  \\\n",
       "0       NaN     278111      278086      278061      277555     276291  ...   \n",
       "1        NY     515089      515089      513839      510014     510014  ...   \n",
       "2        CA     837946      837946      837724      837724     837946  ...   \n",
       "3        IL     319023      317764      316061      314116     312016  ...   \n",
       "4        TX     344662      343913      342661      341387     341047  ...   \n",
       "\n",
       "   3/5/2022  3/12/2022  3/19/2022  3/26/2022  4/2/2022  4/9/2022  4/16/2022  \\\n",
       "0    383498   387498.0     392250     395975    398475    401800     405675   \n",
       "1    677500   679500.0     681000     683500    685500    686750     686725   \n",
       "2   1018750  1033750.0    1052500    1064975   1071225   1073725    1067475   \n",
       "3    329750   333250.0     335975     338475    340975    343475     345975   \n",
       "4    436473   442970.0     450243     456990    460990    463867     467845   \n",
       "\n",
       "   4/23/2022  4/30/2022  5/7/2022  \n",
       "0   410448.0     416698    421370  \n",
       "1   686725.0     686975    688033  \n",
       "2  1061250.0    1058750   1063500  \n",
       "3   348475.0     351725    354450  \n",
       "4   471097.0     474850    479725  \n",
       "\n",
       "[5 rows x 241 columns]"
      ]
     },
     "execution_count": 9,
     "metadata": {},
     "output_type": "execute_result"
    }
   ],
   "source": [
    "listings = pd.read_csv(\"list.csv\")\n",
    "listings.head()"
   ]
  },
  {
   "cell_type": "code",
   "execution_count": 10,
   "id": "12c7a848",
   "metadata": {},
   "outputs": [
    {
     "name": "stdout",
     "output_type": "stream",
     "text": [
      "118\n"
     ]
    }
   ],
   "source": [
    "print(listings.columns.get_loc(\"1/4/2020\"))"
   ]
  },
  {
   "cell_type": "code",
   "execution_count": 11,
   "id": "f32991b6",
   "metadata": {},
   "outputs": [
    {
     "data": {
      "text/plain": [
       "1/4/2020       655195\n",
       "1/11/2020      653828\n",
       "1/18/2020      652712\n",
       "1/25/2020    654079.0\n",
       "2/1/2020       657984\n",
       "               ...   \n",
       "4/9/2022       784725\n",
       "4/16/2022      778225\n",
       "4/23/2022    769450.0\n",
       "4/30/2022      765724\n",
       "5/7/2022       765974\n",
       "Name: 10, Length: 123, dtype: object"
      ]
     },
     "execution_count": 11,
     "metadata": {},
     "output_type": "execute_result"
    }
   ],
   "source": [
    "boston_listings = listings.iloc[10,118:]\n",
    "boston_listings"
   ]
  },
  {
   "cell_type": "code",
   "execution_count": 12,
   "id": "3f9948db",
   "metadata": {},
   "outputs": [
    {
     "data": {
      "text/plain": [
       "2020-01-04      655195\n",
       "2020-01-11      653828\n",
       "2020-01-18      652712\n",
       "2020-01-25    654079.0\n",
       "2020-02-01      657984\n",
       "                ...   \n",
       "2022-04-09      784725\n",
       "2022-04-16      778225\n",
       "2022-04-23    769450.0\n",
       "2022-04-30      765724\n",
       "2022-05-07      765974\n",
       "Name: 10, Length: 123, dtype: object"
      ]
     },
     "execution_count": 12,
     "metadata": {},
     "output_type": "execute_result"
    }
   ],
   "source": [
    "boston_listings.index = x\n",
    "boston_listings"
   ]
  },
  {
   "cell_type": "code",
   "execution_count": 13,
   "id": "c863c945",
   "metadata": {},
   "outputs": [
    {
     "data": {
      "text/plain": [
       "<function matplotlib.pyplot.show(close=None, block=None)>"
      ]
     },
     "execution_count": 13,
     "metadata": {},
     "output_type": "execute_result"
    },
    {
     "data": {
      "image/png": "[encoded data removed]",
      "text/plain": [
       "<Figure size 720x504 with 1 Axes>"
      ]
     },
     "metadata": {
      "needs_background": "light"
     },
     "output_type": "display_data"
    }
   ],
   "source": [
    "boston_sales = boston\n",
    "plt.gca().xaxis.set_major_formatter(mdates.DateFormatter('%Y-%m-%d'))\n",
    "plt.gca().xaxis.set_major_locator(mdates.DayLocator(interval=90))\n",
    "plt.gca().yaxis.set_major_formatter('${x:,.0f}')\n",
    "plt.plot(boston_listings)\n",
    "plt.plot(boston_sales)\n",
    "plt.gcf().autofmt_xdate()\n",
    "plt.gcf().set_size_inches(10, 7)\n",
    "plt.legend(['Median listing price','Median sale price'], loc='lower right')\n",
    "plt.title(\"Single Family Homes in the Boston Metro Area\")\n",
    "plt.show"
   ]
  },
  {
   "cell_type": "code",
   "execution_count": null,
   "id": "7b1befe0",
   "metadata": {},
   "outputs": [],
   "source": []
  }
 ],
 "metadata": {
  "kernelspec": {
   "display_name": "Python 3 (ipykernel)",
   "language": "python",
   "name": "python3"
  },
  "language_info": {
   "codemirror_mode": {
    "name": "ipython",
    "version": 3
   },
   "file_extension": ".py",
   "mimetype": "text/x-python",
   "name": "python",
   "nbconvert_exporter": "python",
   "pygments_lexer": "ipython3",
   "version": "3.9.7"
  }
 },
 "nbformat": 4,
 "nbformat_minor": 5
}

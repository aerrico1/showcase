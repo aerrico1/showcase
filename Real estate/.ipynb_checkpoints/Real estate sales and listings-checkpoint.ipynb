{
 "cells": [
  {
   "cell_type": "code",
   "execution_count": 1,
   "id": "0b368e43",
   "metadata": {},
   "outputs": [],
   "source": [
    "import pandas as pd"
   ]
  },
  {
   "cell_type": "code",
   "execution_count": 2,
   "id": "277497eb",
   "metadata": {},
   "outputs": [],
   "source": [
    "sales = pd.read_csv(\"sales.csv\")"
   ]
  },
  {
   "cell_type": "code",
   "execution_count": 3,
   "id": "5a70b1f9",
   "metadata": {},
   "outputs": [
    {
     "name": "stdout",
     "output_type": "stream",
     "text": [
      "624\n"
     ]
    }
   ],
   "source": [
    "print(sales.columns.get_loc(\"1/4/2020\"))"
   ]
  },
  {
   "cell_type": "code",
   "execution_count": 4,
   "id": "0ec16153",
   "metadata": {},
   "outputs": [
    {
     "data": {
      "text/plain": [
       "1/4/2020     469983.0\n",
       "1/11/2020    474721.0\n",
       "1/18/2020    466721.0\n",
       "1/25/2020    480229.0\n",
       "2/1/2020     479738.0\n",
       "               ...   \n",
       "5/7/2022       690375\n",
       "5/14/2022      689500\n",
       "5/21/2022      704500\n",
       "5/28/2022      699750\n",
       "6/4/2022       694750\n",
       "Name: 10, Length: 127, dtype: object"
      ]
     },
     "execution_count": 4,
     "metadata": {},
     "output_type": "execute_result"
    }
   ],
   "source": [
    "boston = sales.iloc[10,624:]\n",
    "boston"
   ]
  },
  {
   "cell_type": "code",
   "execution_count": 5,
   "id": "55ab854c",
   "metadata": {},
   "outputs": [],
   "source": [
    "import matplotlib.pyplot as plt\n",
    "import numpy as np\n",
    "import matplotlib.dates as mdates\n",
    "import datetime as dt"
   ]
  },
  {
   "cell_type": "code",
   "execution_count": 6,
   "id": "0c7d39e3",
   "metadata": {},
   "outputs": [
    {
     "data": {
      "text/plain": [
       "2020-01-04    469983.0\n",
       "2020-01-11    474721.0\n",
       "2020-01-18    466721.0\n",
       "2020-01-25    480229.0\n",
       "2020-02-01    479738.0\n",
       "                ...   \n",
       "2022-05-07      690375\n",
       "2022-05-14      689500\n",
       "2022-05-21      704500\n",
       "2022-05-28      699750\n",
       "2022-06-04      694750\n",
       "Name: 10, Length: 127, dtype: object"
      ]
     },
     "execution_count": 6,
     "metadata": {},
     "output_type": "execute_result"
    }
   ],
   "source": [
    "dates = boston.index\n",
    "x = [dt.datetime.strptime(d,'%m/%d/%Y').date() for d in dates]\n",
    "days = mdates.drange(x[0],x[-1],dt.timedelta(days=1))\n",
    "boston.index = x\n",
    "boston"
   ]
  },
  {
   "cell_type": "code",
   "execution_count": 7,
   "id": "a0b785c3",
   "metadata": {},
   "outputs": [
    {
     "data": {
      "image/png": "[encoded data removed]",
      "text/plain": [
       "<Figure size 432x288 with 1 Axes>"
      ]
     },
     "metadata": {
      "needs_background": "light"
     },
     "output_type": "display_data"
    }
   ],
   "source": [
    "plt.gca().xaxis.set_major_formatter(mdates.DateFormatter('%Y-%m-%d'))\n",
    "plt.gca().xaxis.set_major_locator(mdates.DayLocator(interval=90))\n",
    "plt.gca().yaxis.set_major_formatter('${x:,.0f}')\n",
    "plt.plot(boston)\n",
    "plt.gcf().autofmt_xdate()\n",
    "plt.title(\"Median Single Family Home Sales in the Boston Metro Area\")\n",
    "plt.show()"
   ]
  },
  {
   "cell_type": "code",
   "execution_count": 8,
   "id": "bd7c5306",
   "metadata": {},
   "outputs": [
    {
     "data": {
      "text/html": [
       "<div>\n",
       "<style scoped>\n",
       "    .dataframe tbody tr th:only-of-type {\n",
       "        vertical-align: middle;\n",
       "    }\n",
       "\n",
       "    .dataframe tbody tr th {\n",
       "        vertical-align: top;\n",
       "    }\n",
       "\n",
       "    .dataframe thead th {\n",
       "        text-align: right;\n",
       "    }\n",
       "</style>\n",
       "<table border=\"1\" class=\"dataframe\">\n",
       "  <thead>\n",
       "    <tr style=\"text-align: right;\">\n",
       "      <th></th>\n",
       "      <th>RegionID</th>\n",
       "      <th>SizeRank</th>\n",
       "      <th>RegionName</th>\n",
       "      <th>RegionType</th>\n",
       "      <th>StateName</th>\n",
       "      <th>11/4/2017</th>\n",
       "      <th>11/11/2017</th>\n",
       "      <th>11/18/2017</th>\n",
       "      <th>11/25/2017</th>\n",
       "      <th>12/2/2017</th>\n",
       "      <th>...</th>\n",
       "      <th>4/30/2022</th>\n",
       "      <th>5/7/2022</th>\n",
       "      <th>5/14/2022</th>\n",
       "      <th>5/21/2022</th>\n",
       "      <th>5/28/2022</th>\n",
       "      <th>6/4/2022</th>\n",
       "      <th>6/11/2022</th>\n",
       "      <th>6/18/2022</th>\n",
       "      <th>6/25/2022</th>\n",
       "      <th>7/2/2022</th>\n",
       "    </tr>\n",
       "  </thead>\n",
       "  <tbody>\n",
       "    <tr>\n",
       "      <th>0</th>\n",
       "      <td>102001</td>\n",
       "      <td>0</td>\n",
       "      <td>United States</td>\n",
       "      <td>Country</td>\n",
       "      <td>NaN</td>\n",
       "      <td>278111</td>\n",
       "      <td>278086</td>\n",
       "      <td>278061</td>\n",
       "      <td>277555</td>\n",
       "      <td>276291</td>\n",
       "      <td>...</td>\n",
       "      <td>417226</td>\n",
       "      <td>422001</td>\n",
       "      <td>425751</td>\n",
       "      <td>430575</td>\n",
       "      <td>434325</td>\n",
       "      <td>438312</td>\n",
       "      <td>442812</td>\n",
       "      <td>445488</td>\n",
       "      <td>447738</td>\n",
       "      <td>448750</td>\n",
       "    </tr>\n",
       "    <tr>\n",
       "      <th>1</th>\n",
       "      <td>394913</td>\n",
       "      <td>1</td>\n",
       "      <td>New York, NY</td>\n",
       "      <td>Msa</td>\n",
       "      <td>NY</td>\n",
       "      <td>517780</td>\n",
       "      <td>517780</td>\n",
       "      <td>516501</td>\n",
       "      <td>512664</td>\n",
       "      <td>511640</td>\n",
       "      <td>...</td>\n",
       "      <td>689000</td>\n",
       "      <td>689250</td>\n",
       "      <td>689500</td>\n",
       "      <td>689500</td>\n",
       "      <td>689250</td>\n",
       "      <td>689000</td>\n",
       "      <td>689000</td>\n",
       "      <td>688000</td>\n",
       "      <td>685725</td>\n",
       "      <td>683225</td>\n",
       "    </tr>\n",
       "    <tr>\n",
       "      <th>2</th>\n",
       "      <td>753899</td>\n",
       "      <td>2</td>\n",
       "      <td>Los Angeles-Long Beach-Anaheim, CA</td>\n",
       "      <td>Msa</td>\n",
       "      <td>CA</td>\n",
       "      <td>837946</td>\n",
       "      <td>837946</td>\n",
       "      <td>837724</td>\n",
       "      <td>837724</td>\n",
       "      <td>837946</td>\n",
       "      <td>...</td>\n",
       "      <td>1068000</td>\n",
       "      <td>1070000</td>\n",
       "      <td>1070750</td>\n",
       "      <td>1073250</td>\n",
       "      <td>1070750</td>\n",
       "      <td>1062500</td>\n",
       "      <td>1060750</td>\n",
       "      <td>1058250</td>\n",
       "      <td>1054250</td>\n",
       "      <td>1048000</td>\n",
       "    </tr>\n",
       "    <tr>\n",
       "      <th>3</th>\n",
       "      <td>394463</td>\n",
       "      <td>3</td>\n",
       "      <td>Chicago, IL</td>\n",
       "      <td>Msa</td>\n",
       "      <td>IL</td>\n",
       "      <td>318829</td>\n",
       "      <td>317570</td>\n",
       "      <td>315843</td>\n",
       "      <td>314091</td>\n",
       "      <td>311623</td>\n",
       "      <td>...</td>\n",
       "      <td>350975</td>\n",
       "      <td>353225</td>\n",
       "      <td>355500</td>\n",
       "      <td>357750</td>\n",
       "      <td>358750</td>\n",
       "      <td>359250</td>\n",
       "      <td>359475</td>\n",
       "      <td>359700</td>\n",
       "      <td>359925</td>\n",
       "      <td>359675</td>\n",
       "    </tr>\n",
       "    <tr>\n",
       "      <th>4</th>\n",
       "      <td>394514</td>\n",
       "      <td>4</td>\n",
       "      <td>Dallas-Fort Worth, TX</td>\n",
       "      <td>Msa</td>\n",
       "      <td>TX</td>\n",
       "      <td>341664</td>\n",
       "      <td>340920</td>\n",
       "      <td>339679</td>\n",
       "      <td>338416</td>\n",
       "      <td>338099</td>\n",
       "      <td>...</td>\n",
       "      <td>474725</td>\n",
       "      <td>479500</td>\n",
       "      <td>483500</td>\n",
       "      <td>487100</td>\n",
       "      <td>490354</td>\n",
       "      <td>491854</td>\n",
       "      <td>493104</td>\n",
       "      <td>494504</td>\n",
       "      <td>496000</td>\n",
       "      <td>496000</td>\n",
       "    </tr>\n",
       "  </tbody>\n",
       "</table>\n",
       "<p>5 rows × 249 columns</p>\n",
       "</div>"
      ],
      "text/plain": [
       "   RegionID  SizeRank                          RegionName RegionType  \\\n",
       "0    102001         0                       United States    Country   \n",
       "1    394913         1                        New York, NY        Msa   \n",
       "2    753899         2  Los Angeles-Long Beach-Anaheim, CA        Msa   \n",
       "3    394463         3                         Chicago, IL        Msa   \n",
       "4    394514         4               Dallas-Fort Worth, TX        Msa   \n",
       "\n",
       "  StateName  11/4/2017  11/11/2017  11/18/2017  11/25/2017  12/2/2017  ...  \\\n",
       "0       NaN     278111      278086      278061      277555     276291  ...   \n",
       "1        NY     517780      517780      516501      512664     511640  ...   \n",
       "2        CA     837946      837946      837724      837724     837946  ...   \n",
       "3        IL     318829      317570      315843      314091     311623  ...   \n",
       "4        TX     341664      340920      339679      338416     338099  ...   \n",
       "\n",
       "   4/30/2022  5/7/2022  5/14/2022  5/21/2022  5/28/2022  6/4/2022  6/11/2022  \\\n",
       "0     417226    422001     425751     430575     434325    438312     442812   \n",
       "1     689000    689250     689500     689500     689250    689000     689000   \n",
       "2    1068000   1070000    1070750    1073250    1070750   1062500    1060750   \n",
       "3     350975    353225     355500     357750     358750    359250     359475   \n",
       "4     474725    479500     483500     487100     490354    491854     493104   \n",
       "\n",
       "   6/18/2022  6/25/2022  7/2/2022  \n",
       "0     445488     447738    448750  \n",
       "1     688000     685725    683225  \n",
       "2    1058250    1054250   1048000  \n",
       "3     359700     359925    359675  \n",
       "4     494504     496000    496000  \n",
       "\n",
       "[5 rows x 249 columns]"
      ]
     },
     "execution_count": 8,
     "metadata": {},
     "output_type": "execute_result"
    }
   ],
   "source": [
    "listings = pd.read_csv(\"list.csv\")\n",
    "listings.head()"
   ]
  },
  {
   "cell_type": "code",
   "execution_count": 9,
   "id": "12c7a848",
   "metadata": {},
   "outputs": [
    {
     "name": "stdout",
     "output_type": "stream",
     "text": [
      "118\n"
     ]
    }
   ],
   "source": [
    "print(listings.columns.get_loc(\"1/4/2020\"))"
   ]
  },
  {
   "cell_type": "code",
   "execution_count": 10,
   "id": "f32991b6",
   "metadata": {},
   "outputs": [
    {
     "data": {
      "text/plain": [
       "1/4/2020       651642\n",
       "1/11/2020      650255\n",
       "1/18/2020      649145\n",
       "1/25/2020    650504.0\n",
       "2/1/2020     654388.0\n",
       "               ...   \n",
       "6/4/2022       788975\n",
       "6/11/2022      789225\n",
       "6/18/2022      793000\n",
       "6/25/2022      788694\n",
       "7/2/2022       783694\n",
       "Name: 10, Length: 131, dtype: object"
      ]
     },
     "execution_count": 10,
     "metadata": {},
     "output_type": "execute_result"
    }
   ],
   "source": [
    "boston_listings = listings.iloc[10,118:]\n",
    "boston_listings"
   ]
  },
  {
   "cell_type": "code",
   "execution_count": 12,
   "id": "3f9948db",
   "metadata": {},
   "outputs": [
    {
     "data": {
      "text/plain": [
       "2020-01-04      651642\n",
       "2020-01-11      650255\n",
       "2020-01-18      649145\n",
       "2020-01-25    650504.0\n",
       "2020-02-01    654388.0\n",
       "                ...   \n",
       "2022-06-04      788975\n",
       "2022-06-11      789225\n",
       "2022-06-18      793000\n",
       "2022-06-25      788694\n",
       "2022-07-02      783694\n",
       "Name: 10, Length: 131, dtype: object"
      ]
     },
     "execution_count": 12,
     "metadata": {},
     "output_type": "execute_result"
    }
   ],
   "source": [
    "dates_listing = boston_listings.index\n",
    "x1 = [dt.datetime.strptime(d,'%m/%d/%Y').date() for d in dates_listing]\n",
    "days1 = mdates.drange(x1[0],x1[-1],dt.timedelta(days=1))\n",
    "boston_listings.index = x1\n",
    "boston_listings"
   ]
  },
  {
   "cell_type": "code",
   "execution_count": 13,
   "id": "c863c945",
   "metadata": {},
   "outputs": [
    {
     "data": {
      "text/plain": [
       "<function matplotlib.pyplot.show(close=None, block=None)>"
      ]
     },
     "execution_count": 13,
     "metadata": {},
     "output_type": "execute_result"
    },
    {
     "data": {
      "image/png": "[encoded data removed]",
      "text/plain": [
       "<Figure size 720x504 with 1 Axes>"
      ]
     },
     "metadata": {
      "needs_background": "light"
     },
     "output_type": "display_data"
    }
   ],
   "source": [
    "boston_sales = boston\n",
    "plt.gca().xaxis.set_major_formatter(mdates.DateFormatter('%Y-%m-%d'))\n",
    "plt.gca().xaxis.set_major_locator(mdates.DayLocator(interval=90))\n",
    "plt.gca().yaxis.set_major_formatter('${x:,.0f}')\n",
    "plt.plot(boston_listings)\n",
    "plt.plot(boston_sales)\n",
    "plt.gcf().autofmt_xdate()\n",
    "plt.gcf().set_size_inches(10, 7)\n",
    "plt.legend(['Median listing price','Median sale price'], loc='lower right')\n",
    "plt.title(\"Single Family Homes in the Boston Metro Area\")\n",
    "plt.show"
   ]
  },
  {
   "cell_type": "code",
   "execution_count": null,
   "id": "7b1befe0",
   "metadata": {},
   "outputs": [],
   "source": []
  }
 ],
 "metadata": {
  "kernelspec": {
   "display_name": "Python 3 (ipykernel)",
   "language": "python",
   "name": "python3"
  },
  "language_info": {
   "codemirror_mode": {
    "name": "ipython",
    "version": 3
   },
   "file_extension": ".py",
   "mimetype": "text/x-python",
   "name": "python",
   "nbconvert_exporter": "python",
   "pygments_lexer": "ipython3",
   "version": "3.9.7"
  }
 },
 "nbformat": 4,
 "nbformat_minor": 5
}
